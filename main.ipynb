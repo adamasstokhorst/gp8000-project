{
 "cells": [
  {
   "cell_type": "code",
   "execution_count": 2,
   "metadata": {},
   "outputs": [
    {
     "data": {
      "text/html": [
       "<div>\n",
       "<style scoped>\n",
       "    .dataframe tbody tr th:only-of-type {\n",
       "        vertical-align: middle;\n",
       "    }\n",
       "\n",
       "    .dataframe tbody tr th {\n",
       "        vertical-align: top;\n",
       "    }\n",
       "\n",
       "    .dataframe thead th {\n",
       "        text-align: right;\n",
       "    }\n",
       "</style>\n",
       "<table border=\"1\" class=\"dataframe\">\n",
       "  <thead>\n",
       "    <tr style=\"text-align: right;\">\n",
       "      <th></th>\n",
       "      <th>id</th>\n",
       "      <th>prompt</th>\n",
       "      <th>text</th>\n",
       "      <th>label</th>\n",
       "      <th>model</th>\n",
       "      <th>domain</th>\n",
       "    </tr>\n",
       "  </thead>\n",
       "  <tbody>\n",
       "    <tr>\n",
       "      <th>0</th>\n",
       "      <td>15725</td>\n",
       "      <td>NO-PROMPT</td>\n",
       "      <td>It has remained one of my favorite country/swi...</td>\n",
       "      <td>human</td>\n",
       "      <td>NO-MODEL</td>\n",
       "      <td>reviews</td>\n",
       "    </tr>\n",
       "    <tr>\n",
       "      <th>1</th>\n",
       "      <td>17108</td>\n",
       "      <td>NO-PROMPT</td>\n",
       "      <td>Even with very light use (hard to get motivate...</td>\n",
       "      <td>human</td>\n",
       "      <td>NO-MODEL</td>\n",
       "      <td>reviews</td>\n",
       "    </tr>\n",
       "    <tr>\n",
       "      <th>2</th>\n",
       "      <td>383</td>\n",
       "      <td>His mother, Ivy Close, who won the first ever ...</td>\n",
       "      <td>She died in 2015 at age 93. She is survived by...</td>\n",
       "      <td>generated</td>\n",
       "      <td>A</td>\n",
       "      <td>news</td>\n",
       "    </tr>\n",
       "    <tr>\n",
       "      <th>3</th>\n",
       "      <td>7809</td>\n",
       "      <td>NO-PROMPT</td>\n",
       "      <td>Londonderry Crown Court heard how Heaney false...</td>\n",
       "      <td>human</td>\n",
       "      <td>NO-MODEL</td>\n",
       "      <td>news</td>\n",
       "    </tr>\n",
       "    <tr>\n",
       "      <th>4</th>\n",
       "      <td>6215</td>\n",
       "      <td>NO-PROMPT</td>\n",
       "      <td>Will Genia, Lachie Turner and Berrick Barnes e...</td>\n",
       "      <td>human</td>\n",
       "      <td>NO-MODEL</td>\n",
       "      <td>news</td>\n",
       "    </tr>\n",
       "  </tbody>\n",
       "</table>\n",
       "</div>"
      ],
      "text/plain": [
       "      id                                             prompt  \\\n",
       "0  15725                                          NO-PROMPT   \n",
       "1  17108                                          NO-PROMPT   \n",
       "2    383  His mother, Ivy Close, who won the first ever ...   \n",
       "3   7809                                          NO-PROMPT   \n",
       "4   6215                                          NO-PROMPT   \n",
       "\n",
       "                                                text      label     model  \\\n",
       "0  It has remained one of my favorite country/swi...      human  NO-MODEL   \n",
       "1  Even with very light use (hard to get motivate...      human  NO-MODEL   \n",
       "2  She died in 2015 at age 93. She is survived by...  generated         A   \n",
       "3  Londonderry Crown Court heard how Heaney false...      human  NO-MODEL   \n",
       "4  Will Genia, Lachie Turner and Berrick Barnes e...      human  NO-MODEL   \n",
       "\n",
       "    domain  \n",
       "0  reviews  \n",
       "1  reviews  \n",
       "2     news  \n",
       "3     news  \n",
       "4     news  "
      ]
     },
     "execution_count": 2,
     "metadata": {},
     "output_type": "execute_result"
    }
   ],
   "source": [
    "import pandas as pd\n",
    "\n",
    "labels = [\"human\", \"generated\"]\n",
    "\n",
    "with open(\"autextification2023/data/train/subtask_1/en/train.tsv\", \"r\") as f:\n",
    "    base_df = pd.read_csv(f, sep=\"\\t\", index_col=0)\n",
    "\n",
    "    train_df = pd.DataFrame({\"text\": base_df[\"text\"], \"label\": [0 if t == \"human\" else 1 for t in base_df[\"label\"]]})\n",
    "\n",
    "with open(\"autextification2023/data/test/subtask_1/en/test.tsv\", \"r\") as f:\n",
    "    base_df = pd.read_csv(f, sep=\"\\t\", index_col=0)\n",
    "\n",
    "    test_df = pd.DataFrame({\"text\": base_df[\"text\"], \"label\": [0 if t == \"human\" else 1 for t in base_df[\"label\"]]})\n",
    "\n",
    "base_df.head()"
   ]
  },
  {
   "cell_type": "code",
   "execution_count": 3,
   "metadata": {},
   "outputs": [],
   "source": [
    "from sklearn.feature_extraction.text import TfidfVectorizer\n",
    "\n",
    "# Initialize TF-IDF Vectorizer\n",
    "vectorizer = TfidfVectorizer(stop_words=\"english\", max_df=0.7)\n",
    "\n",
    "# Transform the text data to feature vectors\n",
    "X_train = vectorizer.fit_transform(train_df[\"text\"])\n",
    "X_test = vectorizer.transform(test_df[\"text\"])\n",
    "\n",
    "# Labels\n",
    "y_train = train_df[\"label\"]\n",
    "y_test = test_df[\"label\"]"
   ]
  },
  {
   "cell_type": "code",
   "execution_count": 39,
   "metadata": {},
   "outputs": [],
   "source": [
    "from sklearn.base import BaseEstimator\n",
    "from sklearn.ensemble import RandomForestClassifier\n",
    "from sklearn.linear_model import LogisticRegression, RidgeClassifier, SGDClassifier\n",
    "from sklearn.naive_bayes import ComplementNB\n",
    "from sklearn.neighbors import KNeighborsClassifier, NearestCentroid\n",
    "from sklearn.neural_network import MLPClassifier\n",
    "from sklearn.svm import LinearSVC\n",
    "\n",
    "# Initialize classifiers\n",
    "clfs: dict[str, BaseEstimator] = {\n",
    "    \"Logistic Regression\": LogisticRegression(C=5, max_iter=1000),\n",
    "    \"Ridge Classifier\": RidgeClassifier(alpha=1.0, solver=\"sparse_cg\"),\n",
    "    \"kNN\": KNeighborsClassifier(n_neighbors=100),\n",
    "    \"Random Forest\": RandomForestClassifier(),\n",
    "    # L2 penalty Linear SVC\n",
    "    \"Linear SVC\": LinearSVC(C=0.1, dual=False, max_iter=1000),\n",
    "    # L2 penalty Linear SGD\n",
    "    \"Log-loss SGD\": SGDClassifier(loss=\"log_loss\", alpha=1e-4, n_iter_no_change=3, early_stopping=True),\n",
    "    # NearestCentroid (aka Rocchio classifier)\n",
    "    \"Nearest Centroid\": NearestCentroid(),\n",
    "    # Sparse naive Bayes classifier\n",
    "    \"Complement Naive Bayes\": ComplementNB(alpha=0.1),\n",
    "    # Multi-layer perceptron classifier\n",
    "    \"Multi-layer Perceptron\": MLPClassifier(solver=\"adam\", alpha=1e-5, hidden_layer_sizes=(5, 2), random_state=42),\n",
    "}"
   ]
  },
  {
   "cell_type": "code",
   "execution_count": 21,
   "metadata": {},
   "outputs": [
    {
     "data": {
      "text/html": [
       "<div>\n",
       "<style scoped>\n",
       "    .dataframe tbody tr th:only-of-type {\n",
       "        vertical-align: middle;\n",
       "    }\n",
       "\n",
       "    .dataframe tbody tr th {\n",
       "        vertical-align: top;\n",
       "    }\n",
       "\n",
       "    .dataframe thead th {\n",
       "        text-align: right;\n",
       "    }\n",
       "</style>\n",
       "<table border=\"1\" class=\"dataframe\">\n",
       "  <thead>\n",
       "    <tr style=\"text-align: right;\">\n",
       "      <th></th>\n",
       "      <th>classifier</th>\n",
       "      <th>training (sec)</th>\n",
       "      <th>testing (sec)</th>\n",
       "      <th>accuracy (%)</th>\n",
       "    </tr>\n",
       "  </thead>\n",
       "  <tbody>\n",
       "    <tr>\n",
       "      <th>0</th>\n",
       "      <td>Logistic Regression</td>\n",
       "      <td>0.573811</td>\n",
       "      <td>0.001875</td>\n",
       "      <td>59.806706</td>\n",
       "    </tr>\n",
       "    <tr>\n",
       "      <th>1</th>\n",
       "      <td>Ridge Classifier</td>\n",
       "      <td>0.144466</td>\n",
       "      <td>0.001382</td>\n",
       "      <td>59.683034</td>\n",
       "    </tr>\n",
       "    <tr>\n",
       "      <th>2</th>\n",
       "      <td>Multi-layer Perceptron</td>\n",
       "      <td>86.233865</td>\n",
       "      <td>0.004050</td>\n",
       "      <td>59.458593</td>\n",
       "    </tr>\n",
       "    <tr>\n",
       "      <th>3</th>\n",
       "      <td>Linear SVC</td>\n",
       "      <td>0.171866</td>\n",
       "      <td>0.001190</td>\n",
       "      <td>58.867717</td>\n",
       "    </tr>\n",
       "    <tr>\n",
       "      <th>4</th>\n",
       "      <td>Log-loss SGD</td>\n",
       "      <td>0.031034</td>\n",
       "      <td>0.001163</td>\n",
       "      <td>57.667644</td>\n",
       "    </tr>\n",
       "    <tr>\n",
       "      <th>5</th>\n",
       "      <td>Random Forest</td>\n",
       "      <td>81.879504</td>\n",
       "      <td>1.636565</td>\n",
       "      <td>57.479846</td>\n",
       "    </tr>\n",
       "    <tr>\n",
       "      <th>6</th>\n",
       "      <td>Complement Naive Bayes</td>\n",
       "      <td>0.008543</td>\n",
       "      <td>0.003369</td>\n",
       "      <td>56.847746</td>\n",
       "    </tr>\n",
       "    <tr>\n",
       "      <th>7</th>\n",
       "      <td>kNN</td>\n",
       "      <td>0.004485</td>\n",
       "      <td>12.328544</td>\n",
       "      <td>52.940638</td>\n",
       "    </tr>\n",
       "    <tr>\n",
       "      <th>8</th>\n",
       "      <td>Nearest Centroid</td>\n",
       "      <td>0.009811</td>\n",
       "      <td>0.004739</td>\n",
       "      <td>51.250458</td>\n",
       "    </tr>\n",
       "  </tbody>\n",
       "</table>\n",
       "</div>"
      ],
      "text/plain": [
       "               classifier  training (sec)  testing (sec)  accuracy (%)\n",
       "0     Logistic Regression        0.573811       0.001875     59.806706\n",
       "1        Ridge Classifier        0.144466       0.001382     59.683034\n",
       "2  Multi-layer Perceptron       86.233865       0.004050     59.458593\n",
       "3              Linear SVC        0.171866       0.001190     58.867717\n",
       "4            Log-loss SGD        0.031034       0.001163     57.667644\n",
       "5           Random Forest       81.879504       1.636565     57.479846\n",
       "6  Complement Naive Bayes        0.008543       0.003369     56.847746\n",
       "7                     kNN        0.004485      12.328544     52.940638\n",
       "8        Nearest Centroid        0.009811       0.004739     51.250458"
      ]
     },
     "execution_count": 21,
     "metadata": {},
     "output_type": "execute_result"
    }
   ],
   "source": [
    "import time\n",
    "\n",
    "from sklearn.metrics import accuracy_score\n",
    "\n",
    "# Train the classifiers and measure accuracy\n",
    "train_time = []\n",
    "test_time = []\n",
    "accuracy = []\n",
    "for name, clf in clfs.items():\n",
    "    start = time.perf_counter()\n",
    "    clf.fit(X_train, y_train)\n",
    "    train_time.append(time.perf_counter() - start)\n",
    "\n",
    "    start = time.perf_counter()\n",
    "    y_pred = clf.predict(X_test)\n",
    "    test_time.append(time.perf_counter() - start)\n",
    "\n",
    "    accuracy.append(accuracy_score(y_test, y_pred))\n",
    "\n",
    "# Create dataframe for report\n",
    "classifier_names = [n for n in clfs]\n",
    "results = pd.DataFrame({\n",
    "    \"classifier\": classifier_names,\n",
    "    \"training (sec)\": train_time,\n",
    "    \"testing (sec)\": test_time,\n",
    "    \"accuracy (%)\": [100 * v for v in accuracy]\n",
    "}, index=classifier_names)\n",
    "results.sort_values(by=[\"accuracy (%)\"], ascending=False, ignore_index=True, inplace=True)\n",
    "\n",
    "results"
   ]
  },
  {
   "cell_type": "code",
   "execution_count": 24,
   "metadata": {},
   "outputs": [
    {
     "data": {
      "text/plain": [
       "<Axes: title={'center': 'Accuracy of various classifiers'}, ylabel='classifier'>"
      ]
     },
     "execution_count": 24,
     "metadata": {},
     "output_type": "execute_result"
    },
    {
     "data": {
      "image/png": "[encoded data removed]",
      "text/plain": [
       "<Figure size 432x288 with 1 Axes>"
      ]
     },
     "metadata": {
      "needs_background": "light"
     },
     "output_type": "display_data"
    }
   ],
   "source": [
    "results.plot(x=\"classifier\", y=\"accuracy (%)\", kind=\"barh\", title=\"Accuracy of various classifiers\", legend=False)"
   ]
  },
  {
   "cell_type": "code",
   "execution_count": 35,
   "metadata": {},
   "outputs": [
    {
     "data": {
      "image/png": "[encoded data removed]",
      "text/plain": [
       "<Figure size 720x360 with 2 Axes>"
      ]
     },
     "metadata": {
      "needs_background": "light"
     },
     "output_type": "display_data"
    }
   ],
   "source": [
    "import matplotlib.pyplot as plt\n",
    "\n",
    "from sklearn.metrics import ConfusionMatrixDisplay, DetCurveDisplay, PrecisionRecallDisplay, classification_report\n",
    "\n",
    "y_pred = clfs[0][0].predict(X_test)\n",
    "\n",
    "fig, ax = plt.subplots(figsize=(10, 5))\n",
    "ConfusionMatrixDisplay.from_predictions(y_test, y_pred, ax=ax)\n",
    "ax.xaxis.set_ticklabels(labels)\n",
    "ax.yaxis.set_ticklabels(labels)\n",
    "_ = ax.set_title(\"Confusion matrix for Logistic Regression classifier\")"
   ]
  },
  {
   "cell_type": "code",
   "execution_count": 43,
   "metadata": {},
   "outputs": [
    {
     "name": "stdout",
     "output_type": "stream",
     "text": [
      "              precision    recall  f1-score   support\n",
      "\n",
      "       human       0.69      0.32      0.44     10642\n",
      "   generated       0.57      0.86      0.69     11190\n",
      "\n",
      "    accuracy                           0.60     21832\n",
      "   macro avg       0.63      0.59      0.56     21832\n",
      "weighted avg       0.63      0.60      0.57     21832\n",
      "\n"
     ]
    }
   ],
   "source": [
    "print(classification_report(y_test, y_pred, target_names=labels))"
   ]
  }
 ],
 "metadata": {
  "kernelspec": {
   "display_name": "Python 3",
   "language": "python",
   "name": "python3"
  },
  "language_info": {
   "codemirror_mode": {
    "name": "ipython",
    "version": 3
   },
   "file_extension": ".py",
   "mimetype": "text/x-python",
   "name": "python",
   "nbconvert_exporter": "python",
   "pygments_lexer": "ipython3",
   "version": "3.10.1"
  }
 },
 "nbformat": 4,
 "nbformat_minor": 4
}
